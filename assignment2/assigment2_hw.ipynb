{
 "cells": [
  {
   "cell_type": "markdown",
   "metadata": {
    "deletable": true,
    "editable": true
   },
   "source": [
    "Problem 4"
   ]
  },
  {
   "cell_type": "code",
   "execution_count": 2,
   "metadata": {
    "collapsed": false,
    "deletable": true,
    "editable": true,
    "scrolled": true
   },
   "outputs": [
    {
     "name": "stdout",
     "output_type": "stream",
     "text": [
      "['b', 'u', 'l', 'l']\n",
      "[ 0.34041434  0.34161709  0.31796857]\n",
      "[ 0.50972262  0.20460943  0.28566795]\n",
      "['b', 'u', 'r', 'r', 'o']\n",
      "[ 0.42787111  0.1403424   0.43178649]\n",
      "[ 0.57580762  0.07554633  0.34864605]\n",
      "['k', 'u', 'r', 'c', 'z', 'a', 'k']\n",
      "[ 0.36539972  0.18821387  0.44638641]\n",
      "[ 0.51572462  0.10625791  0.37801747]\n",
      "['p', 'o', 'l', 'l', 'o']\n",
      "[ 0.39812094  0.02919851  0.57268055]\n",
      "[ 0.52842628  0.01550208  0.45607164]\n",
      "['i', 't', 'w', 'o', 'o', 'j', 'c', 'z', 'y', 'z', 'n', 'o', 'm', 'o', 'j', 'a', 't', 'y', 'j', 'e', 's', 't', 'e', '\\xc5', '\\x9b', 'j', 'a', 'k', 'z', 'd', 'r', 'o', 'w', 'i', 'e']\n",
      "[ 0.68906771  0.00175784  0.30917444]\n",
      "[ 0.78725807  0.00080333  0.2119386 ]\n",
      "['d', 'i', 'n', 'e', 'r', 'o']\n",
      "[  7.17571099e-01   5.53762732e-04   2.81875139e-01]\n",
      "[  8.09061663e-01   2.49747069e-04   1.90688590e-01]\n",
      "['m', 'a', 'm', 'a', 'j', 'u', 's', 't', 'k', 'i', 'l', 'l', 'e', 'd', 'a', 'm', 'a', 'n', 'p', 'u', 't', 'a', 'g', 'u', 'n', 'a', 'g', 'a', 'i', 'n', 's', 't', 'h', 'i', 's', 'h', 'e', 'a', 'd']\n",
      "[ 0.35046393  0.00462399  0.64491209]\n",
      "[ 0.47407348  0.00250195  0.52342457]\n",
      "['a', 'r', 'a', 'd', 'o', 'n', 'a', 'e', 's', 'm', 'a', 's', 'g', 'r', 'a', 'n', 'd', 'e', 'q', 'u', 'e', 'p', 'e', 'l', 'e']\n",
      "[  1.44960574e-01   3.81077160e-04   8.54658349e-01]\n",
      "[  2.20335625e-01   2.31690237e-04   7.79432685e-01]\n",
      "['c', 'a', 'r']\n",
      "[  1.15671631e-01   4.75845086e-04   8.83852524e-01]\n",
      "[  1.79010179e-01   2.94561816e-04   8.20695259e-01]\n"
     ]
    }
   ],
   "source": [
    "import numpy as np\n",
    "letters = list(\"aeiouy\")\n",
    "english = np.array([0.08167, 0.12702, 0.06966, 0.07507, 0.02758, 0.01974, 0.59926])\n",
    "polish = np.array([0.10503, 0.07352, 0.08328, 0.02445, 0.02062, 0.03206, 0.66104])\n",
    "spanish = np.array([.11525, .12181, .06247, .08683, .02927, .01008, .57429])\n",
    "\n",
    "languages = np.array([english, polish, spanish])\n",
    "# print(languages)\n",
    "\n",
    "words = np.array([list(\"bull\"), list(\"burro\"), list(\"kurczak\"), list(\"pollo\"), \n",
    "                  list(\"itwoojczyznomojatyjesteśjakzdrowie\"), list(\"dinero\"), \n",
    "                  list(\"mamajustkilledamanputagunagainsthishead\"), list(\"aradonaesmasgrandequepele\"),\n",
    "                  list(\"car\")])\n",
    "\n",
    "apriori1 = np.array([1./3, 1./3, 1./3])\n",
    "apriori2 = np.array([5./10, 2./10, 3./10])\n",
    "\n",
    "for word in words:\n",
    "    prob1 = apriori1\n",
    "    prob2 = apriori2\n",
    "    has_prob = [letter in letters for letter in word]\n",
    "    for i, j in zip(has_prob, word):\n",
    "        if(i):\n",
    "            prob1 *= languages[:, letters.index(j)]\n",
    "            prob2 *= languages[:, letters.index(j)]\n",
    "        else:\n",
    "            prob1 *= languages[:, -1]\n",
    "            prob2 *= languages[:, -1]\n",
    "              \n",
    "    prob1 /= np.sum(prob1)\n",
    "    prob2 /= np.sum(prob2)\n",
    "    print(word)\n",
    "    print(prob1)\n",
    "    print(prob2)"
   ]
  },
  {
   "cell_type": "markdown",
   "metadata": {
    "deletable": true,
    "editable": true
   },
   "source": [
    "Problem 6"
   ]
  },
  {
   "cell_type": "code",
   "execution_count": 553,
   "metadata": {
    "collapsed": false,
    "deletable": true,
    "editable": true
   },
   "outputs": [
    {
     "data": {
      "image/png": "[encoded data removed]",
      "text/plain": [
       "<matplotlib.figure.Figure at 0x7f57b5225310>"
      ]
     },
     "metadata": {},
     "output_type": "display_data"
    }
   ],
   "source": [
    "import matplotlib.pyplot as plt\n",
    "\n",
    "p = np.linspace(0.0, 1.0, 1000)\n",
    "n = 500\n",
    "\n",
    "ps = [0.4, 0.5]\n",
    "success = np.sum([np.random.binomial(1, p=ps) for i in range(n)], axis=0)\n",
    "\n",
    "L = p**success[0]*(1-p)**(n-success[0])\n",
    "\n",
    "plt.ylim(0, max(L))\n",
    "plt.plot(p, L, 'b')\n",
    "plt.axvline(success[0]/(n*1.0), color='red', linestyle='-')\n",
    "plt.show()\n"
   ]
  },
  {
   "cell_type": "markdown",
   "metadata": {
    "deletable": true,
    "editable": true
   },
   "source": [
    "Problem 7"
   ]
  },
  {
   "cell_type": "code",
   "execution_count": 644,
   "metadata": {
    "collapsed": false,
    "deletable": true,
    "editable": true
   },
   "outputs": [
    {
     "name": "stdout",
     "output_type": "stream",
     "text": [
      "[[ 0.36363636  0.36363636  0.27272727]\n",
      " [ 0.          0.14285714  0.85714286]\n",
      " [ 0.63636364  0.18181818  0.18181818]]\n",
      "[329007, 324124]\n"
     ]
    }
   ],
   "source": [
    "from enum import Enum\n",
    "\n",
    "def find_winner(first, second):\n",
    "    if(first == second):\n",
    "        return -1\n",
    "    if(first == 'P' and second == 'R'):\n",
    "        return 0\n",
    "    if(first == 'R' and second == 'S'):\n",
    "        return 0\n",
    "    if(first == 'S' and second == 'P'):\n",
    "        return 0\n",
    "    return 1\n",
    "\n",
    "seq = np.array(list(\"PPRSSRSPPRSPRRSPPPSSPRSPSPSRSP\"))\n",
    "unique, counts = numpy.unique(seq, return_counts=True)\n",
    "counts[0] -= 1\n",
    "# print(unique, counts)\n",
    "# Probability matrix, each row simbolize probability of column simbol after row simbol\n",
    "# Simbols goes P, R, S\n",
    "letters = ['P', 'R', 'S']\n",
    "prob = np.zeros(9).reshape((3,3))\n",
    "for i, j in zip(seq[:-1], seq[1:]):\n",
    "    prob[letters.index(i)][letters.index(j)] += 1\n",
    "# print(counts)\n",
    "# print(prob)\n",
    "#prob[0] /= 12\n",
    "prob = prob.T\n",
    "prob /= counts\n",
    "prob = prob.T\n",
    "# print(prob)\n",
    "\n",
    "counts[0] += 1\n",
    "Trurl = np.array(counts/(len(seq)*1.0))\n",
    "\n",
    "lastK = np.random.choice(letters)\n",
    "lastT = np.random.choice(letters, p=Trurl)\n",
    "wins = [0,0]\n",
    "for i in range(10**6):\n",
    "    winner = find_winner(lastK, lastT)\n",
    "    if(winner != -1):\n",
    "        wins[winner] += 1\n",
    "#     print(lastK, lastT)\n",
    "#     print(wins)\n",
    "    lastK = np.random.choice(letters, p=prob[letters.index(lastK)])\n",
    "    lastT = np.random.choice(letters, p=Trurl)\n",
    "    \n",
    "print(wins)"
   ]
  }
 ],
 "metadata": {
  "kernelspec": {
   "display_name": "Python 2",
   "language": "python",
   "name": "python2"
  },
  "language_info": {
   "codemirror_mode": {
    "name": "ipython",
    "version": 2
   },
   "file_extension": ".py",
   "mimetype": "text/x-python",
   "name": "python",
   "nbconvert_exporter": "python",
   "pygments_lexer": "ipython2",
   "version": "2.7.12"
  }
 },
 "nbformat": 4,
 "nbformat_minor": 2
}
