{
 "cells": [
  {
   "cell_type": "markdown",
   "metadata": {
    "deletable": true,
    "editable": true
   },
   "source": [
    "# Assignment 1\n",
    "\n",
    "**Submission deadline:**\n",
    "* **Problems 1-4: last lab session before or on Thursday, 9.3.17**\n",
    "* **Problems 5-6: last lab session before or on Thursday, 16.3.17**\n",
    "\n",
    "**Points: 10 + 4 bonus points**\n",
    "\n",
    "Please note: some of the assignments are tedious or boring if you are already a NumPy ninja. The bonus problems were designed to give you a more satisfying alternative.\n",
    "\n",
    "## Downloading this notebook\n",
    "\n",
    "This assignment is an Jupyter notebook. Download it by cloning https://github.com/janchorowski/nn_assignments. Follow the instructions in its README for instructions. Whenever possible, add your solutions to the notebook. \n",
    "\n",
    "Please email us about any problems with it - we will try to correct them quickly. Also, please do not hesitate to use GitHub’s pull requests to send us corrections!"
   ]
  },
  {
   "cell_type": "code",
   "execution_count": 1,
   "metadata": {
    "collapsed": false,
    "deletable": true,
    "editable": true
   },
   "outputs": [],
   "source": [
    "# Standard IPython notebook imports\n",
    "%matplotlib inline\n",
    "\n",
    "from __future__ import absolute_import\n",
    "from __future__ import division\n",
    "from __future__ import print_function"
   ]
  },
  {
   "cell_type": "markdown",
   "metadata": {
    "deletable": true,
    "editable": true
   },
   "source": [
    "## Problem 0 [0p]\n",
    "\n",
    "Get familiar with our [lab guide](https://docs.google.com/viewer?a=v&pid=sites&srcid=Y3MudW5pLndyb2MucGx8amNofGd4OjM0ZTU2MjA4M2NlOGIwNmE). It is not obligatory to use the labs remotely and most of the time you will do just fine with your own machine. However, we recommend using labs for the most computationally-intensive tasks such as the final projects.\n",
    "\n",
    "Make sure you know how to:\n",
    "* load up-to-date Anaconda Python distribution with `/pio/os/anaconda/set-env.sh` (confirm with `python -V`)\n",
    "<br/>\n",
    "(also: look into this `nn_assignments`' `set-env.sh` and see that it loads `Anaconda` for you),\n",
    "* connect to labs 110/137 from *outside* of the faculty,\n",
    "* copy a file over an ssh tunnel or connect remotely to a Jupyter Notebook,\n",
    "* use `GNU screen` and/or `nohup`,\n",
    "* leave a process running, disconnect, connect again and verify it is still running.\n",
    "\n",
    "In case of problems, ask for help!"
   ]
  },
  {
   "cell_type": "markdown",
   "metadata": {
    "deletable": true,
    "editable": true
   },
   "source": [
    "## Problem 1 [2p]\n",
    "\n",
    "First, get familiar with Python at https://docs.python.org/2/tutorial/. Then, get\n",
    "to know the capabilities of NumPy, the prime numerical library of Python http://www.numpy.org/, for instance with the tutorial at http://wiki.scipy.org/Tentative_NumPy_Tutorial.\n",
    "\n",
    "You might also need:\n",
    "  1. another intro to NumPy,\n",
    "http://people.duke.edu/~ccc14/pcfb/numerics.html\n",
    "  2. a better interactive shell for Python,\n",
    "http://ipython.org/\n",
    "  3. access to IPython through an ordinary web browser,\n",
    "http://ipython.org/notebook.html\n",
    "  4. a plotting library for Python.\n",
    "http://matplotlib.org/\n",
    "\n",
    "**a) Declare variables:**\n",
    "1. $a=10$,\n",
    "2. $b=2.5\\times 10^{23}$,\n",
    "3. $c=2+3i$, where $i$ is an imaginary unit,\n",
    "\n",
    "4. $d=e^{i2\\pi/3}$, where $i$ is an imaginary unit, $e$ is the Euler's number (use `exp`, `pi`)."
   ]
  },
  {
   "cell_type": "code",
   "execution_count": 1,
   "metadata": {
<<<<<<< HEAD
    "collapsed": false,
=======
    "collapsed": true,
>>>>>>> 547634b7a6edb2def6792645ed7bdae831d2ad04
    "deletable": true,
    "editable": true
   },
   "outputs": [],
   "source": [
    "import math as mt\n",
    "# TODO: Complete the declarations\n",
    "a = 10\n",
    "b = 2.5*10**23\n",
    "c = 2+3j\n",
    "d = mt.e**(2j*mt.pi/3)"
   ]
  },
  {
   "cell_type": "markdown",
   "metadata": {
    "deletable": true,
    "editable": true
   },
   "source": [
    "**b) Declare vectors:**\n",
    "1. $aVec=\\begin{bmatrix} 3.14 & 15 & 9 & 26 \\end{bmatrix}$,\n",
    "2. $bVec=\\begin{bmatrix} 2.71 & 8 & 28 & 182 \\end{bmatrix}^\\intercal$ (column vector),\n",
    "3. $cVec=\\begin{bmatrix} 5 & 4.8 & \\cdots & -4.8 & -5 \\end{bmatrix}$ (vector of numbers from $5$ to $-5$ decreasing by $0.2$),\n",
    "4. $dVec=\\begin{bmatrix} 10^0 & 10^{0.01} & \\cdots & 10^{0.99} & 10^1 \\end{bmatrix}$ (logarithmically spaced numbers from 1 to 10, use `logspace` and make sure, that the result has correct length!),\n",
    "5. $eVec=Hello$ ($eVec$ is a string of characters, thus a vector)."
   ]
  },
  {
   "cell_type": "code",
   "execution_count": 2,
   "metadata": {
<<<<<<< HEAD
    "collapsed": false,
=======
    "collapsed": true,
>>>>>>> 547634b7a6edb2def6792645ed7bdae831d2ad04
    "deletable": true,
    "editable": true
   },
   "outputs": [
    {
     "name": "stdout",
     "output_type": "stream",
     "text": [
      "['H' 'e' 'l' 'l' 'o']\n"
     ]
    }
   ],
   "source": [
    "import numpy as np\n",
    "aVec = np.array([3.14, 15., 9., 26.])\n",
    "bVec = np.array([2.71, 8., 28., 182.]).reshape((-1,1))\n",
    "# print (bVec.shape, bVec)\n",
    "cVec = np.linspace(5, -5, 51, endpoint=True)\n",
    "dVec = np.logspace(0, 1, num=101)\n",
    "eVec = np.array(list(\"Hello\"))\n",
    "print(eVec)"
   ]
  },
  {
   "cell_type": "markdown",
   "metadata": {
    "deletable": true,
    "editable": true
   },
   "source": [
    "**c) Declare matrices:**\n",
    "1. $aMat=\\begin{bmatrix}\n",
    "                    2      & \\cdots & 2 \\\\\n",
    "                    \\vdots & \\ddots & \\vdots \\\\\n",
    "                    2      & \\cdots & 2\n",
    "                \\end{bmatrix}$,\n",
    "<br/>\n",
    "matrix $9\\times 9$ filled with 2s (use `ones` or `zeros`),\n",
    "2. $bMat=\\begin{bmatrix}\n",
    "                    1      & 0      & \\cdots &        & 0      \\\\\n",
    "                    0      & \\ddots & 0      &        & 0      \\\\\n",
    "                    \\vdots & 0      & 5      & 0      & \\vdots \\\\\n",
    "                           &        & 0      & \\ddots & 0      \\\\\n",
    "                    0      &        & \\cdots & 0      & 1\n",
    "                \\end{bmatrix}$,\n",
    "<br/>\n",
    "matrix $9\\times 9$ filled with zeros, with $\\begin{bmatrix} 1 & 2 & 3 & 4 & 5 & 4 & 3 & 2 & 1 \\end{bmatrix}$ on its diagonal (use `zeros`, `diag`),\n",
    "3. $cMat=\\begin{bmatrix}\n",
    "                    1      & 11     & \\cdots & 91     \\\\\n",
    "                    2      & 12     & \\ddots & 92     \\\\\n",
    "                    \\vdots & \\vdots & \\ddots & \\vdots \\\\\n",
    "                    10     & 20     & \\cdots & 100\n",
    "                \\end{bmatrix}$,\n",
    "<br/>\n",
    "matrix $10\\times 10$, columns of which form the vector $1:100$ (use `reshape`),\n",
    "4. $dMat=\\begin{bmatrix}\n",
    "                    NaN & NaN & NaN & NaN \\\\\n",
    "                    NaN & NaN & NaN & NaN \\\\\n",
    "                    NaN & NaN & NaN & NaN\n",
    "                \\end{bmatrix}$,\n",
    "<br/>\n",
    "matrix $3\\times 4$ filled with `NaN`s (use... `NaN`),\n",
    "5. $eMat=\\begin{bmatrix}\n",
    "                    13  & -1  & 5  \\\\\n",
    "                    -22 & 10  & -87\n",
    "                \\end{bmatrix}$,\n",
    "<br/>\n",
    "6. $fMat$ filled with random natural numbers from $[-3,3]$ (use `rand` and `floor` or `ceil`)."
   ]
  },
  {
   "cell_type": "code",
   "execution_count": 3,
   "metadata": {
<<<<<<< HEAD
    "collapsed": false,
=======
    "collapsed": true,
>>>>>>> 547634b7a6edb2def6792645ed7bdae831d2ad04
    "deletable": true,
    "editable": true
   },
   "outputs": [],
   "source": [
    "aMat = np.full((9, 9), 2)\n",
    "bMat = np.zeros((9, 9))\n",
    "np.fill_diagonal(bMat, np.append(np.linspace(1, 5, 5), np.linspace(4, 1, 4)))\n",
    "cMat = np.arange(1,101).reshape((10,10)).T\n",
    "dMat = np.ones((3,4))\n",
    "dMat.fill(np.NaN)\n",
    "eMat = np.array([[13, -1, 5], [-22, 10, -85]])\n",
    "fMat = np.random.randint(-3, 4, size=(10, 10))"
   ]
  },
  {
   "cell_type": "markdown",
   "metadata": {
    "deletable": true,
    "editable": true
   },
   "source": [
    "** d) Declare a multiplication table ** as a $10\\times 10$ matrix `mulMat`. Use matrix/vector multiplication."
   ]
  },
  {
   "cell_type": "code",
   "execution_count": 4,
   "metadata": {
<<<<<<< HEAD
    "collapsed": false,
=======
    "collapsed": true,
>>>>>>> 547634b7a6edb2def6792645ed7bdae831d2ad04
    "deletable": true,
    "editable": true
   },
   "outputs": [],
   "source": [
    "mulMat = np.matmul(np.arange(1,11).reshape((10,1)), np.arange(1,11).reshape((1,10)))"
   ]
  },
  {
   "cell_type": "markdown",
   "metadata": {
    "deletable": true,
    "editable": true
   },
   "source": [
    "** e) Compute elemwise using values from b).**\n",
    "For instance, the first element of $xVec[0]$ should be equal to\n",
    "\n",
    "\\begin{equation}\n",
    "1/(\\sqrt{2\\pi2.5^2}) e^{-cVec[0]^2 / (2\\cdot\\pi 2.5^2)}.\n",
    "\\end{equation}\n",
    "\n",
    "1. $xVec=1/(\\sqrt{2\\pi2.5^2}) e^{-cVec^2 / (2\\cdot\\pi 2.5^2)}$\n",
    "2. $yVec=\\sqrt{(aVec^\\intercal)^2 + bVec^2}$\n",
    "3. $zVec=\\log_{10}(1/dVec)$, using `log10`"
   ]
  },
  {
   "cell_type": "code",
   "execution_count": 5,
   "metadata": {
    "collapsed": false,
    "deletable": true,
    "editable": true
   },
   "outputs": [],
   "source": [
    "xVec = (1/(mt.sqrt(2*mt.pi*2.5**2)))*mt.e**(cVec**2/(2*2.5**2))\n",
    "# print xVec[0] == 1/(mt.sqrt(2*mt.pi*2.5**2))*mt.e**(cVec[0]**2/(2*2.5**2))\n",
    "yVec = np.sqrt(np.transpose(aVec)**2 + bVec**2)\n",
    "zVec = np.log10(1/dVec) "
   ]
  },
  {
   "cell_type": "markdown",
   "metadata": {
    "deletable": true,
    "editable": true
   },
   "source": [
    "** f) Compute with matrix/vector operations using values from c).**\n",
    "\n",
    "**NOTE:** Every multiplication (and power) in this subtask is a [matrix multiplication](https://en.wikipedia.org/wiki/Matrix_multiplication).\n",
    "1. $xMat=(aVec\\cdot bVec)aMat^2$,\n",
    "2. $yMat=bVec\\cdot aVec$\n",
    "<br/>\n",
    "(remember, that matrix multiplication is not commutative),\n",
    "4. $zMat=\\lvert cMat\\rvert (aMat\\cdot bMat)^\\intercal$, where $\\lvert A\\rvert$ denotes determinant of $A$ (use `det`)."
   ]
  },
  {
   "cell_type": "code",
   "execution_count": 6,
   "metadata": {
<<<<<<< HEAD
    "collapsed": false,
=======
    "collapsed": true,
>>>>>>> 547634b7a6edb2def6792645ed7bdae831d2ad04
    "deletable": true,
    "editable": true
   },
   "outputs": [],
   "source": [
    "xMat = np.dot(aVec,bVec)*np.dot(aMat, aMat) \n",
    "yMat = np.matmul(bVec,aVec.reshape((1,4)))\n",
    "zMat = np.linalg.det(cMat)*np.matmul(aMat,bMat).T"
   ]
  },
  {
   "cell_type": "markdown",
   "metadata": {
    "deletable": true,
    "editable": true
   },
   "source": [
    "** g) Declare `ismagic(A)` function ** which checks if matrix $A$ is a [magic square](https://en.wikipedia.org/wiki/Magic_square) and returns a boolean."
   ]
  },
  {
   "cell_type": "code",
   "execution_count": 7,
   "metadata": {
<<<<<<< HEAD
    "collapsed": false,
=======
    "collapsed": true,
>>>>>>> 547634b7a6edb2def6792645ed7bdae831d2ad04
    "deletable": true,
    "editable": true
   },
   "outputs": [
    {
     "data": {
      "text/plain": [
       "True"
      ]
     },
     "execution_count": 7,
     "metadata": {},
     "output_type": "execute_result"
    }
   ],
   "source": [
    "def ismagic(A):\n",
    "    if len(A.shape) != 2 or A.shape[0] != A.shape[1]:\n",
    "        return False\n",
    "    if len(np.unique(A)) != A.shape[0]**2:\n",
    "        return False\n",
    "    if np.max(A) > A.shape[0]**2 or np.min(A) < 1:\n",
    "        return False\n",
    "    if np.all(np.equal(np.mod(A, 1), 0)) == False:\n",
    "        return False\n",
    "    \n",
    "    suma = sum(np.diag(A))\n",
    "    # Check second diagonal\n",
    "    if suma != sum(np.diag(np.fliplr(A))):\n",
    "        return False\n",
    "    \n",
    "    # Check row and cols sum\n",
    "    return np.all(np.sum(A, axis=1) == suma) and np.all(np.sum(A, axis=1) == suma) \n",
    "    \n",
    "magic = np.array([[2,7,6], [9,5,1], [4,3,8]])\n",
    "ismagic(magic)"
   ]
  },
  {
   "cell_type": "markdown",
   "metadata": {
    "deletable": true,
    "editable": true
   },
   "source": [
    "# k-Nearest Neighbors\n",
    "\n",
    "The following excerpt of code loads the data describing iris flowers\n",
    "and shows relations between their length and petal width for three\n",
    "species (namely: setosa, versicolor, virginica)."
   ]
  },
  {
   "cell_type": "code",
   "execution_count": 9,
   "metadata": {
    "collapsed": false,
    "deletable": true,
    "editable": true
   },
   "outputs": [
    {
     "name": "stdout",
     "output_type": "stream",
     "text": [
      "Populating the interactive namespace from numpy and matplotlib\n",
      "Features:  ['sepal length (cm)', 'sepal width (cm)', 'petal length (cm)', 'petal width (cm)']\n",
      "Targets:  ['setosa' 'versicolor' 'virginica']\n"
     ]
    },
    {
     "data": {
      "text/plain": [
       "<matplotlib.legend.Legend at 0x7fb3e0d4abd0>"
      ]
     },
     "execution_count": 9,
     "metadata": {},
     "output_type": "execute_result"
    },
    {
     "data": {
      "image/png": "iVBORw0KGgoAAAANSUhEUgAAAYUAAAEKCAYAAAD9xUlFAAAABHNCSVQICAgIfAhkiAAAAAlwSFlz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\nTkSuQmCC\n",
      "text/plain": [
       "<matplotlib.figure.Figure at 0x7fb3eb08fb10>"
      ]
     },
     "metadata": {},
     "output_type": "display_data"
    }
   ],
   "source": [
    "# pylab - loads numerical and graphical libraries into the IPython notebook\n",
    "%pylab inline\n",
    "\n",
    "# sklearn is a large collection of machine learning algorithms\n",
    "# here we’ll use it only for the built-in iris dataset\n",
    "from sklearn import datasets\n",
    "\n",
    "iris = datasets.load_iris()\n",
    "\n",
    "print('Features: ', iris.feature_names)\n",
    "print('Targets: ', iris.target_names)\n",
    "\n",
    "petal_length = iris.data[:,iris.feature_names.index('petal length (cm)')]\n",
    "petal_width = iris.data[:, iris.feature_names.index('petal width (cm)')]\n",
    "\n",
    "for target in set(iris.target):\n",
    "    example_ids = target==iris.target\n",
    "    scatter(petal_length[example_ids], petal_width[example_ids],\n",
    "            label=iris.target_names[target], color='bgr'[target],\n",
    "            marker='x', alpha=0.7)\n",
    "unknown = np.array([\n",
    "                    [1.5, 0.3],\n",
    "                    [4.5, 1.2],\n",
    "                    [5.5, 2.3],\n",
    "                    [5.1, 1.7]\n",
    "                   ])\n",
    "scatter(unknown[:,0], unknown[:,1], marker='v', color='gray', s=50, label='??')\n",
    "xlabel('petal length (cm)')\n",
    "ylabel('petal width (cm)')\n",
    "grid(True)\n",
    "legend(loc='upper left')"
   ]
  },
  {
   "cell_type": "markdown",
   "metadata": {
    "deletable": true,
    "editable": true
   },
   "source": [
    "Based on these two features, it is easy to distinguish iris setosa from the two remaining species. Yet iris versicolor and virginica remain mixed together. \n",
    "\n",
    "Looking closely at the plot, we might estimate the spieces of the selected unknown irises (gray triangles). For three of them the answer seems obvious – they belong in uniformly-colored areas covered by one spieces only. Yet unknown iris flower in (5.1, 1.7) is troublesome – it lays on the boundary of versicolor and virginica clusters. We can assume, that its species is the one of the closest one to it, coming from the training set (and so having a label). \n",
    "\n",
    "K-Nearest Neighbors method (http://en.wikipedia.org/wiki/K-nearest_neighbors_algorithm) solves the classification problem, i.e. sets class labels (species in case of irises) of a previously unseen sample by choosing the most common class among the top k neighbors of the sample in question (for instance according to the Euclidean distance). Thus, the k-Nearest Neighbors algorithm works as follows. For each unlabeled sample x:\n",
    "1. Find k nearest neighbors among the labeled samples.\n",
    "2. Set the most common label among them as label of x."
   ]
  },
  {
   "cell_type": "markdown",
   "metadata": {
    "deletable": true,
    "editable": true
   },
   "source": [
    "## Problem 2 [2p]\n",
    "\n",
    "1.  **[1p]** Load the iris data (in Python it’s built-in into machine learning libraries, use sklearn.datasets.load_iris), the data is also available on-line at https://archive.ics.uci.edu/ml/datasets/Iris\n",
    "\n",
    "2.  **[1p]** Irises are described with 4 attributes: petal and sepal widths and lengths. We often plot such data as matrices depicting relationships between pairs of attributes (the diagonal of which holds an ordinary histogram). Write code making a plot like the one below. Please pay attention to the details: make a proper legend and correctly label the axes.\n",
    "\n",
    "<img src=\"iris4x4.png\"/>"
   ]
  },
  {
   "cell_type": "code",
   "execution_count": 10,
   "metadata": {
    "collapsed": true,
    "deletable": true,
    "editable": true
   },
   "outputs": [],
   "source": [
    "# Load data (part 1)\n",
    "from sklearn import datasets\n",
    "\n",
    "iris = datasets.load_iris()"
   ]
  },
  {
   "cell_type": "markdown",
   "metadata": {
    "deletable": true,
    "editable": true
   },
   "source": [
    "## Problem 3 [2p]\n",
    "\n",
    "Implement the k-Nearest Neighbors algorithm. Try to\n",
    "take advantage of matrix calculus rather than using for loops.\n",
    "\n",
    "**Tip:** What is computed by \\begin{equation} \\sqrt{(X - Y)^T (X - Y)} \\end{equation} when both X and Y are vectors?\n",
    "\n",
    "**Tip:** Try to use broadcasting (NumPy: http://docs.scipy.org/doc/numpy/user/basics.broadcasting.html) and built-ins sort, numpy.sort, numpy.argsort (sorting), scipy.stats.mode (choosing the most common element of the set)."
   ]
  },
  {
   "cell_type": "code",
   "execution_count": 19,
   "metadata": {
    "collapsed": false,
    "deletable": true,
    "editable": true
   },
   "outputs": [
    {
     "name": "stdout",
     "output_type": "stream",
     "text": [
      "[[ 4 25 64]\n",
      " [ 1  4 25]\n",
      " [ 9  0  9]\n",
      " [25  4  1]\n",
      " [64 25  4]]\n"
     ]
    },
    {
     "data": {
      "text/plain": [
       "array([[2],\n",
       "       [3],\n",
       "       [4]])"
      ]
     },
     "execution_count": 19,
     "metadata": {},
     "output_type": "execute_result"
    }
   ],
   "source": [
    "from scipy import stats\n",
    "\n",
    "def kNearest(traning, test, k, labels):\n",
    "    training_shaped = traning.reshape((-1,1))\n",
    "    test_shaped = test.reshape((1,-1))\n",
    "    matrix = np.sum(training_shaped[...,np.newaxis]-test_shaped[np.newaxis,...],axis=1)**2 \n",
    "    print(matrix) \n",
    "\n",
    "    permutation = np.argsort(np.argsort(matrix, axis=0), axis=0).T < k\n",
    "    find_labels = np.array([labels[permutation[i]] for i in range(len(test_shaped[0]))])    \n",
    "    return stats.mode(find_labels, axis=1)[0]\n",
    "    \n",
    "    \n",
    "testA = np.array([1,4,6,8,11])\n",
    "testB = np.array([3,6,9])\n",
    "labele = np.array([1,2,3,4,5])\n",
    "kNearest(testA, testB, 1, labele)"
   ]
  },
  {
   "cell_type": "markdown",
   "metadata": {
    "deletable": true,
    "editable": true
   },
   "source": [
    "## Problem 4 [2p]\n",
    "Consider the following experiment:\n",
    "1. We scramble the data and split it into two parts - training set (66.6% of all samples) and test set (33.4%).\n",
    "2. Based on the training set, we use the k-NN algorithm to predict the labels on the test set.\n",
    "3. We then check the number of errors and write it down.\n",
    "\n",
    "Do this 500 times for k ∈ {1, 3, 5, ..., 19}. Plot a function of the average number of errors\n",
    "as the function of k. It should be similar to the one below.\n",
    "\n",
    "<img src=\"knn.png\"/>"
   ]
  },
  {
   "cell_type": "code",
   "execution_count": 57,
   "metadata": {
    "collapsed": false,
    "deletable": true,
    "editable": true
   },
   "outputs": [
    {
     "data": {
      "image/png": "iVBORw0KGgoAAAANSUhEUgAAAXcAAAD8CAYAAACMwORRAAAABHNCSVQICAgIfAhkiAAAAAlwSFlz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\nRU5ErkJggg==\n",
      "text/plain": [
       "<matplotlib.figure.Figure at 0x7fb3decec510>"
      ]
     },
     "metadata": {},
     "output_type": "display_data"
    },
    {
     "data": {
      "text/plain": [
       "<matplotlib.legend.Legend at 0x7fb3df045050>"
      ]
     },
     "execution_count": 57,
     "metadata": {},
     "output_type": "execute_result"
    },
    {
     "data": {
      "image/png": "iVBORw0KGgoAAAANSUhEUgAAAYQAAAEKCAYAAAASByJ7AAAABHNCSVQICAgIfAhkiAAAAAlwSFlz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\n6gAAAABJRU5ErkJggg==\n",
      "text/plain": [
       "<matplotlib.figure.Figure at 0x7fb3ded85950>"
      ]
     },
     "metadata": {},
     "output_type": "display_data"
    }
   ],
   "source": [
    "# Load data (part 1)\n",
    "from sklearn import datasets\n",
    "import matplotlib.pyplot as plt\n",
    "\n",
    "iris = datasets.load_iris()\n",
    "\n",
    "errors = []\n",
    "for k in range(1,20, 2):\n",
    "    suma = 0\n",
    "    for i in range(500):\n",
    "        \n",
    "        permutation = np.random.permutation(np.linspace(0, 149, 150, endpoint=True, dtype=np.int))\n",
    "        petal_length = iris.data[:,iris.feature_names.index('petal length (cm)')][permutation]\n",
    "        petal_width = iris.data[:, iris.feature_names.index('petal width (cm)')][permutation]\n",
    "        labels = iris.target[permutation]\n",
    "    \n",
    "        result = (kNearest(petal_length[:100], petal_length[100:], k, labels[:100]).T == labels[100:])\n",
    "        suma += np.count_nonzero(result == False)\n",
    "    \n",
    "    errors.append(suma/500)\n",
    "\n",
    "# print(errors)\n",
    "plt.plot([i for i in range(1,20, 2)], errors, 'bo', [i for i in range(1,20, 2)], errors, 'b')\n",
    "plt.show()\n",
    "\n",
    "\n",
    "for target in set(labels[:100]):\n",
    "    example_ids = target==labels[:100]\n",
    "    scatter(petal_length[:100][example_ids], np.ones(100)[example_ids],\n",
    "            label=iris.target_names[target], color='bgr'[target],\n",
    "            marker='x', alpha=0.7)\n",
    "    \n",
    "unknown = np.append(petal_length[100:], np.ones(50)).reshape(2,50)\n",
    "scatter(unknown[0,:], unknown[1,:], marker='v', color='gray', s=50, label='??')\n",
    "xlabel('petal length (cm)')\n",
    "# ylabel('petal width (cm)')\n",
    "grid(True)\n",
    "legend(loc='upper left')"
   ]
  },
  {
   "cell_type": "markdown",
   "metadata": {
    "deletable": true,
    "editable": true
   },
   "source": [
    "## Problem 5 [2p] \n",
    "\n",
    "Apply the K-Nearest Neighbors (K-NN) algorithm to the MNIST and CIFAR10 datasets. \n",
    "\n",
    "The MNIST (http://yann.lecun.com/exdb/mnist/) dataset consists of normalized (centered and stretched) scans of hand-written digits. Specifically, each element of the dataset is a 28 × 28 grayscale image, thus having 764 8-bit pixels. \n",
    "\n",
    "The CIFAR10 (http://www.cs.toronto.edu/~kriz/cifar.html) dataset consists of small, 32 by 32 pixels, RGB images belonging to 10 categories.\n",
    "\n",
    "1. **[1p]** Download and load the MNIST and CIFAR10 datasets. For both datasets, display a few objects from each of the classes, paying attention to aesthetics and clarity of your presentation. **Note:** the datasets are available on Lab computers. Please use the code below to get started.\n",
    "\n",
    "2. **[2p]** Apply a k-NN classifier to the MNIST and CIFAR10 datasets. First, divide the training set into two parts, which we will call training and validation. On MNIST use the first 50000 samples for training and the last 10000 for validation. On CIFAR10, use 40000 to train and 10000 for validation. Then find the optimal number of neighbors by assessing the accuracy on the validation set. You do not need to repeat this experiment multiple times. Finally, compute the accuracy on the test set obtained with the best previously chosen number of neighbors. On MNIST you should get about 3% errors, while on CIFAR10 you should get about 70% errors. Why CIFAR10 is harder than MNIST? Pick a few mislabeled samples from the test dataset and plot them along with the correct ones. \n",
    "\n",
    "**Note:**\n",
    "  * MNIST and CIFAR10 are much larger than the Iris dataset. A good implementation needs about XXX minutes on Lab computers. Please optimize your algorithm:\n",
    "  * Compute the distances only once, then test for different values of k.\n",
    "  * Use vectorized expressions to compute the distance. It is possible to compute all distances between the training and testing points in one expression. Hint: think about the vectorized expression \\begin{equation}(X - Y)^T (X - Y).\\end{equation}\n",
    "  * You can use single precision numbers in computation.\n",
    "  * If your code is taking a long time o execute, please save its results before the lab session.\n",
    "\n",
    "**Note:** in NumPy, matrices have its own data type (dtype), which is retained during\n",
    "calculations. Please pay attention, i.e. do not subtract values of data types not\n",
    "having the sign bit, do not divide integers, etc. Results of such operations won’t be\n",
    "automatically casted to types having the required precision."
   ]
  },
  {
   "cell_type": "code",
   "execution_count": 2,
   "metadata": {
    "collapsed": false,
    "deletable": true,
    "editable": true
   },
   "outputs": [
    {
     "ename": "ImportError",
     "evalue": "No module named plotting",
     "output_type": "error",
     "traceback": [
      "\u001b[0;31m---------------------------------------------------------------------------\u001b[0m",
      "\u001b[0;31mImportError\u001b[0m                               Traceback (most recent call last)",
      "\u001b[0;32m<ipython-input-2-44777d7780c8>\u001b[0m in \u001b[0;36m<module>\u001b[0;34m()\u001b[0m\n\u001b[1;32m      2\u001b[0m \u001b[0;34m\u001b[0m\u001b[0m\n\u001b[1;32m      3\u001b[0m \u001b[0;32mfrom\u001b[0m \u001b[0mfuel\u001b[0m\u001b[0;34m.\u001b[0m\u001b[0mdatasets\u001b[0m\u001b[0;34m.\u001b[0m\u001b[0mmnist\u001b[0m \u001b[0;32mimport\u001b[0m \u001b[0mMNIST\u001b[0m\u001b[0;34m\u001b[0m\u001b[0m\n\u001b[0;32m----> 4\u001b[0;31m \u001b[0;32mfrom\u001b[0m \u001b[0mcommon\u001b[0m\u001b[0;34m.\u001b[0m\u001b[0mplotting\u001b[0m \u001b[0;32mimport\u001b[0m \u001b[0mplot_mat\u001b[0m\u001b[0;34m\u001b[0m\u001b[0m\n\u001b[0m\u001b[1;32m      5\u001b[0m \u001b[0;34m\u001b[0m\u001b[0m\n\u001b[1;32m      6\u001b[0m \u001b[0;34m\u001b[0m\u001b[0m\n",
      "\u001b[0;31mImportError\u001b[0m: No module named plotting"
     ]
    }
   ],
   "source": [
    "# loading MNIST data\n",
    "\n",
    "from fuel.datasets.mnist import MNIST\n",
    "from common.plotting import plot_mat\n",
    "\n",
    "\n",
    "mnist_train = MNIST((\"train\",), subset=slice(None,50000))\n",
    "mnist_validation = MNIST((\"train\",), subset=slice(50000, None))\n",
    "mnist_test = MNIST((\"test\",))\n",
    "\n",
    "print(\"We have %d training, %d validation, and %d test examples\" % (\n",
    "    mnist_train.num_examples, mnist_validation.num_examples, mnist_test.num_examples))\n",
    "print(\"The examples are pairs of %s:\" % (mnist_train.sources,))\n",
    "for i, source in enumerate(mnist_train.sources):\n",
    "    labels = mnist_train.axis_labels[source]\n",
    "    print('The source #%d named \"%s\" is a %dd array with axis: %s' % (\n",
    "        i, source, len(labels), labels))\n",
    "\n",
    "#Note that for larger datasets that are loaded into mameory the data_sources field may not exist!\n",
    "plot_mat(mnist_train.data_sources[0][:20], cmap='gray')"
   ]
  },
  {
   "cell_type": "code",
   "execution_count": null,
   "metadata": {
    "collapsed": true,
    "deletable": true,
    "editable": true
   },
   "outputs": [],
   "source": [
    "#\n",
    "# TODO: plot an example of each class on MNIST and on CIFAR\n",
    "#"
   ]
  },
  {
   "cell_type": "code",
   "execution_count": null,
   "metadata": {
    "collapsed": true,
    "deletable": true,
    "editable": true
   },
   "outputs": [],
   "source": [
    "#Extract the data matrices\n",
    "\n",
    "mnist_train_X = (mnist_train.data_sources[0].reshape(mnist_train.num_examples, -1) / 255.0).astype(np.single)\n",
    "mnist_train_Y = mnist_train.data_sources[1].ravel()\n",
    "\n",
    "mnist_valid_X = (mnist_validation.data_sources[0].reshape(mnist_validation.num_examples, -1) / 255.0).astype(np.single)\n",
    "mnist_valid_Y = mnist_validation.data_sources[1].ravel()"
   ]
  },
  {
   "cell_type": "code",
   "execution_count": null,
   "metadata": {
    "collapsed": false,
    "deletable": true,
    "editable": true
   },
   "outputs": [],
   "source": [
    "from scipy.stats import mode\n",
    "\n",
    "def KNN(train_X, train_Y, test_X, test_Y, ks, batch_size=200):\n",
    "    \"\"\"\n",
    "    Compute error rate for various \n",
    "    \"\"\"\n",
    "    errs = np.zeros((len(ks),))\n",
    "    for i in xrange(0,test_Y.shape[0], batch_size):\n",
    "        batch_X = test_X[i:i + batch_size]\n",
    "        batch_Y = test_Y[i:i + batch_size]\n",
    "        print(\"Examples %d:%d Computing distances... \" %(i,i+batch_size), end='')\n",
    "        \n",
    "        #\n",
    "        # TODO: fill in an efficient distance matrix computation \n",
    "        #\n",
    "        dists = TODO\n",
    "        \n",
    "        print(\"Sorting... \", end='')\n",
    "        closest = np.argsort(dists,0)\n",
    "\n",
    "        print(\"Computing errors...\")\n",
    "        targets = train_Y[closest]\n",
    "        \n",
    "        for ki,k in enumerate(ks):\n",
    "            predictions, unused_counts = mode(targets[:k,:], axis=0)\n",
    "            predictions = predictions.ravel()\n",
    "            #\n",
    "            # TODO: fill in error count computation\n",
    "            #\n",
    "            errs[ki] += TODO\n",
    "        \n",
    "    errs /= test_Y.shape    \n",
    "    return np.vstack((ks, errs))"
   ]
  },
  {
   "cell_type": "code",
   "execution_count": null,
   "metadata": {
    "collapsed": false,
    "deletable": true,
    "editable": true
   },
   "outputs": [],
   "source": [
    "# Now find the best k on the validation set\n",
    "\n",
    "mnist_validation_errs = KNN(mnist_train_X, mnist_train_Y, mnist_valid_X, mnist_valid_Y, [1,3,5,7,9])\n",
    "plot(mnist_validation_errs[0,:], mnist_validation_errs[1,:])\n"
   ]
  },
  {
   "cell_type": "code",
   "execution_count": null,
   "metadata": {
    "collapsed": false,
    "deletable": true,
    "editable": true
   },
   "outputs": [],
   "source": [
    "# Now use the best k to compute the test error\n",
    "\n",
    "best_K =  TODO\n",
    "\n",
    "mnist_full_train = MNIST((\"train\",), )\n",
    "\n",
    "mnist_full_train_X = (mnist_full_train.data_sources[0].reshape(mnist_full_train.num_examples, -1) / 255.0).astype(np.single)\n",
    "mnist_full_train_Y = mnist_full_train.data_sources[1].ravel()\n",
    "\n",
    "mnist_test_X = (mnist_test.data_sources[0].reshape(mnist_test.num_examples, -1) / 255.0).astype(np.single)\n",
    "mnist_test_Y = mnist_test.data_sources[1].ravel()\n",
    "\n",
    "mnist_test_errs = KNN(mnist_full_train_X, mnist_full_train_Y, mnist_test_X, mnist_test_Y, [best_K])\n",
    "print(\"When k=%d the test error rate is %.1f%%\" % (mnist_test_errs[0,0], mnist_test_errs[1,0]*100.0))"
   ]
  },
  {
   "cell_type": "code",
   "execution_count": null,
   "metadata": {
    "collapsed": true,
    "deletable": true,
    "editable": true
   },
   "outputs": [],
   "source": [
    "#\n",
    "# Now repeat the k-NN training for CIFAR10\n",
    "#"
   ]
  },
  {
   "cell_type": "markdown",
   "metadata": {
    "deletable": true,
    "editable": true
   },
   "source": [
    "# Locality sensitive hashing\n",
    "\n",
    "Problem 5 was about speeding up the inference using loops implicitly present in matrix multiplication instead of explicit loops in Python. In this problem, we will explore a strategy to truly reduce the total number of computations required to find nearest neighbors without sacrificing too much accuracy.\n",
    "\n",
    "To speed up nearest neighbor search we will employ *Locality Sensitive Hashing (LSH)* functions. For a given distance metric, the locality sensitive hash should put items that are similar into the same bucket. Notice that this is essentially a design choice opposite to traditional cryptographic hash functions that should amplify the difference of similar inputs (typically we want that small perturbations of data result in large changes to the hash value).\n",
    "\n",
    "One of the simplest implementations of LSH approximates the cosine distance. Let $x\\in \\mathbb{R}^N$ and $y\\in \\mathbb{R}^N$ be two vectors. Their cosine distance is defined as:\n",
    "\n",
    "\\begin{equation}\n",
    "    d_\\text{cos}(x,y) = \\frac{x \\cdot y}{\\|x\\| \\|y\\|} = \\cos\\left(\\theta(x,y)\\right),\n",
    "\\end{equation}\n",
    "where $\\theta(x,y)$ is the unsigned angle between $x$ and $y$.\n",
    "\n",
    "We will construct a family $H$ of hash functions that are an LSH for angle distances (an approximation to cosine distance). Assume $p\\in \\mathbb{R}^N$ is a random vector (components are sampled from the normal distribution) of length 1. Then define the hash function $h(x) = \\text{sgn}(x\\cdot p)$, where $\\text{sgn()}$ is the sign function. It can be proven that:\n",
    "\n",
    "\\begin{equation}\n",
    "    p_{h\\in H}[h(x)=h(y)] = 1 - \\frac{\\theta(x,y)}{\\pi}.\n",
    "\\end{equation}\n",
    "\n",
    "The equation means that the probability of a hash collision grows as the the angle between two vectors gets smaller. Therefore, vectors that are close according to the cosine distance will be put with high probability into the same bin (we use the fact that for small $\\theta$ we can approximate $\\cos(\\theta) = 1 - \\theta/\\pi$.\n",
    "\n",
    "We will say that a family of randomly chosen hash functions $H$ is $(d_1, d_2, p_1, p_2)$-sensitive with respect to a distance metric $d$ if for any $x$ and $y$:\n",
    "1. If $d(x,y) \\leq d_1$ then $p_{h\\in H}[h(x)=h(y)] \\geq p_1$.\n",
    "2. If $d(x,y) \\geq d_2$ then $p_{h\\in H}[h(x)=h(y)] \\leq p_2$.\n",
    "\n",
    "For example, our family of randomly chosen hyperplanes is $(d_1, d_2, (1-d_1)/\\pi, (1-d_2)/\\pi)$-sensitive.\n",
    "\n",
    "Ideally, vectors should be placed into the same bin with a high probability if their distance is smaller than a threshold, and with a low probability if their distance is larger that the threshold. By combining hashing functions we can get closer to this ideal sensitivity.\n",
    "\n",
    "Given a family of hash functions $H$ with sensitivity $(d_1, d_3, p_1, p_2)$ we can construct a new family $H'$ by combining $r$ functions from $H$:\n",
    "1. AND: let $h=[h_1, h_2, \\ldots, h_r] \\in H'$ and $h(x)=h(y)$ if and only if $\\forall_i h_i(x)=h_i(y)$. Then $H'$ is $(d_1, d_2, (p_1)^r, (p_2)^r)$-sensitive.\n",
    "2. OR: let $h=[h_1, h_2, \\ldots, h_r] \\in H'$ and $h(x)=h(y)$ if and only if $\\exists_i h_i(x)=h_i(y)$. Then $H'$ is $(d_1, d_2, 1-(1-p_1)^r, 1-(1-p_2)^r)$-sensitive.\n",
    "\n",
    "AND makes all probabilities shrink, but properly choosing $r$ we can make the lower probability approach 0 while the higher does not. Conversely, OR makes all probabilities grow, we can make the upper probability approach 1 while the lower does not.\n",
    "\n",
    "\n",
    "\n",
    "## Problem 6 [2-4p bonus] \n",
    "\n",
    "1. **[1bp]** **Note:** you can show sketches of proofs for this assignment.\n",
    "    1. Show that angle between vectors is a metric (https://en.wikipedia.org/wiki/Metric_(mathematics)).\n",
    "    \n",
    "    2. Show that $p_{h\\in H}[h(x)=h(y)] = 1 - \\frac{\\theta(x,y)}{\\pi}$ for $h$ computed using a randomly chosen hyperplane.\n",
    "\n",
    "    3. Show the properties of either AND or OR boosting of LSH.\n",
    "\n",
    "3. **[1-3bp]** Reimplement k-Nearest Neighbors for MNIST classification using the cosine distance instead of the Euclidean distance. Choose a sensible value of $k$. Use Locality Sensitive Hashing to achieve an error rate no greater than $150\\%$ of the original error rate with at least a $90\\%$ speedup (i.e., by considering on average at most 5000 training samples per query image). For a few settings plot the speedup-vs-accuracy relation.\n",
    "\n",
    "  **Note:** points will be awarded based on ingenuity of your solution. Feel free to explore your own ideas!\n"
   ]
  },
  {
   "cell_type": "code",
   "execution_count": null,
   "metadata": {
    "collapsed": true,
    "deletable": true,
    "editable": true
   },
   "outputs": [],
   "source": []
  }
 ],
 "metadata": {
  "kernelspec": {
   "display_name": "Python 2",
   "language": "python",
   "name": "python2"
  },
  "language_info": {
   "codemirror_mode": {
    "name": "ipython",
    "version": 2
   },
   "file_extension": ".py",
   "mimetype": "text/x-python",
   "name": "python",
   "nbconvert_exporter": "python",
   "pygments_lexer": "ipython2",
   "version": "2.7.12"
  }
 },
 "nbformat": 4,
 "nbformat_minor": 0
}
